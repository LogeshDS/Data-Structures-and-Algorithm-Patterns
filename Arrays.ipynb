{
 "cells": [
  {
   "cell_type": "code",
   "execution_count": 1,
   "id": "f17262c8",
   "metadata": {},
   "outputs": [
    {
     "name": "stdout",
     "output_type": "stream",
     "text": [
      "2\n"
     ]
    }
   ],
   "source": [
    "#First index of element\n",
    "def first_index(arr,x):\n",
    "    res = -1\n",
    "    for i in range(len(arr)):\n",
    "        if arr[i]==x:\n",
    "            res=i\n",
    "            break\n",
    "    return res\n",
    "print(first_index([7,5,2,11,2,43,1,1],2))"
   ]
  },
  {
   "cell_type": "code",
   "execution_count": 2,
   "id": "ba4b3c39",
   "metadata": {},
   "outputs": [
    {
     "name": "stdout",
     "output_type": "stream",
     "text": [
      "4\n"
     ]
    }
   ],
   "source": [
    "#Last index of element\n",
    "def last_index(arr,x):\n",
    "    res = -1\n",
    "    for i in range(len(arr)-1,-1,-1):\n",
    "        if arr[i]==x:\n",
    "            res=i\n",
    "            break\n",
    "    return res\n",
    "print(last_index([7,5,2,11,2,43,1,1],2))"
   ]
  },
  {
   "cell_type": "code",
   "execution_count": 3,
   "id": "08958bb9",
   "metadata": {},
   "outputs": [
    {
     "name": "stdout",
     "output_type": "stream",
     "text": [
      "[7, 5, 2, 11, 2, 43, 1, 10]\n"
     ]
    }
   ],
   "source": [
    "#Reverse the array\n",
    "def array_reverse(arr):\n",
    "    return arr[::-1]\n",
    "\n",
    "print(array_reverse([10, 1, 43, 2 ,11, 2, 5 ,7]))"
   ]
  },
  {
   "cell_type": "code",
   "execution_count": 4,
   "id": "622a1696",
   "metadata": {},
   "outputs": [
    {
     "name": "stdout",
     "output_type": "stream",
     "text": [
      "[2, 11, 2, 43, 1, 1, 7, 5]\n"
     ]
    }
   ],
   "source": [
    "#Rotate array\n",
    "def rotate_array(arr,k):\n",
    "    res = arr[k:]+arr[:k]\n",
    "    return res\n",
    "\n",
    "print(rotate_array([7, 5, 2 ,11 ,2 ,43, 1, 1],2))"
   ]
  },
  {
   "cell_type": "code",
   "execution_count": 5,
   "id": "2c548fd9",
   "metadata": {},
   "outputs": [
    {
     "name": "stdout",
     "output_type": "stream",
     "text": [
      "(5, 12)\n"
     ]
    }
   ],
   "source": [
    "#K'th smallest/largest element in an array\n",
    "def kelement(arr,k):\n",
    "    arr.sort()\n",
    "    if len(arr)>=k:\n",
    "        r1 = arr[k-1] #smallest\n",
    "        r2 = arr[-k] #largest\n",
    "        return r1,r2\n",
    "\n",
    "print(kelement([12, 3, 5, 7, 19],2))"
   ]
  }
 ],
 "metadata": {
  "kernelspec": {
   "display_name": "Python 3.9.7 64-bit",
   "language": "python",
   "name": "python3"
  },
  "language_info": {
   "codemirror_mode": {
    "name": "ipython",
    "version": 3
   },
   "file_extension": ".py",
   "mimetype": "text/x-python",
   "name": "python",
   "nbconvert_exporter": "python",
   "pygments_lexer": "ipython3",
   "version": "3.9.7"
  },
  "vscode": {
   "interpreter": {
    "hash": "0d591c6e422414675974e227c13f5382000c440fedd3c5006ef2be5d887f0ba7"
   }
  }
 },
 "nbformat": 4,
 "nbformat_minor": 5
}
