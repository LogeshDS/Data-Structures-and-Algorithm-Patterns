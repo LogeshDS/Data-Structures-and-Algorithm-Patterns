{
 "cells": [
  {
   "cell_type": "code",
   "execution_count": 1,
   "metadata": {},
   "outputs": [
    {
     "name": "stdout",
     "output_type": "stream",
     "text": [
      "False\n",
      "True\n"
     ]
    }
   ],
   "source": [
    "#T:O(N)\n",
    "def ispalindrome(s):\n",
    "    return s==s[::-1]\n",
    "s1= \"mike\"\n",
    "s2= \"level\" \n",
    "print(ispalindrome(s1))\n",
    "print(ispalindrome(s2))"
   ]
  },
  {
   "cell_type": "code",
   "execution_count": 2,
   "metadata": {},
   "outputs": [
    {
     "name": "stdout",
     "output_type": "stream",
     "text": [
      "True\n"
     ]
    }
   ],
   "source": [
    "#T:O(NLOGN)\n",
    "def isanagram(s1,s2):\n",
    "    return sorted(s1)==sorted(s2)\n",
    "\n",
    "print(isanagram(\"LISTEN\",\"SILENT\"))"
   ]
  },
  {
   "cell_type": "code",
   "execution_count": 3,
   "metadata": {},
   "outputs": [
    {
     "name": "stdout",
     "output_type": "stream",
     "text": [
      "True\n"
     ]
    }
   ],
   "source": [
    "#T:O(N)\n",
    "from collections import Counter\n",
    "def isanagram(s1,s2):\n",
    "    return Counter(s1)==Counter(s2) #compairing the freuency of each character\n",
    "\n",
    "print(isanagram(\"LISTEN\",\"SILENT\")) "
   ]
  },
  {
   "cell_type": "code",
   "execution_count": null,
   "metadata": {},
   "outputs": [],
   "source": [
    "#Sort by len algorithm\n"
   ]
  }
 ],
 "metadata": {
  "kernelspec": {
   "display_name": "Python 3.9.7 64-bit",
   "language": "python",
   "name": "python3"
  },
  "language_info": {
   "codemirror_mode": {
    "name": "ipython",
    "version": 3
   },
   "file_extension": ".py",
   "mimetype": "text/x-python",
   "name": "python",
   "nbconvert_exporter": "python",
   "pygments_lexer": "ipython3",
   "version": "3.9.7"
  },
  "orig_nbformat": 4,
  "vscode": {
   "interpreter": {
    "hash": "0d591c6e422414675974e227c13f5382000c440fedd3c5006ef2be5d887f0ba7"
   }
  }
 },
 "nbformat": 4,
 "nbformat_minor": 2
}
