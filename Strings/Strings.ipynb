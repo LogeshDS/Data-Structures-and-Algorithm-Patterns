{
 "cells": [
  {
   "cell_type": "code",
   "execution_count": 1,
   "metadata": {},
   "outputs": [
    {
     "name": "stdout",
     "output_type": "stream",
     "text": [
      "False\n",
      "True\n"
     ]
    }
   ],
   "source": [
    "#T:O(N)\n",
    "def ispalindrome(s):\n",
    "    return s==s[::-1]\n",
    "s1= \"mike\"\n",
    "s2= \"level\" \n",
    "print(ispalindrome(s1))\n",
    "print(ispalindrome(s2))"
   ]
  },
  {
   "cell_type": "code",
   "execution_count": 2,
   "metadata": {},
   "outputs": [
    {
     "name": "stdout",
     "output_type": "stream",
     "text": [
      "True\n"
     ]
    }
   ],
   "source": [
    "#T:O(NLOGN)\n",
    "def isanagram(s1,s2):\n",
    "    return sorted(s1)==sorted(s2)\n",
    "\n",
    "print(isanagram(\"LISTEN\",\"SILENT\"))"
   ]
  },
  {
   "cell_type": "code",
   "execution_count": 3,
   "metadata": {},
   "outputs": [
    {
     "name": "stdout",
     "output_type": "stream",
     "text": [
      "True\n"
     ]
    }
   ],
   "source": [
    "#T:O(N)\n",
    "from collections import Counter\n",
    "def isanagram(s1,s2):\n",
    "    return Counter(s1)==Counter(s2) #compairing the freuency of each character\n",
    "\n",
    "print(isanagram(\"LISTEN\",\"SILENT\")) "
   ]
  },
  {
   "cell_type": "code",
   "execution_count": 4,
   "metadata": {},
   "outputs": [
    {
     "name": "stdout",
     "output_type": "stream",
     "text": [
      "['Pandey!', 'Coding!', 'Shikha', 'Hello', 'Happy', 'am', 'I']\n"
     ]
    }
   ],
   "source": [
    "#sort the words of string in descending order\n",
    "\n",
    "s = \"Hello I am Shikha Pandey! Happy Coding!\"\n",
    "A = s.split()\n",
    "A.sort(key=len,reverse=True)\n",
    "print(A)"
   ]
  },
  {
   "cell_type": "code",
   "execution_count": 5,
   "metadata": {},
   "outputs": [
    {
     "name": "stdout",
     "output_type": "stream",
     "text": [
      "BEFORE [('p', 1), ('r', 2), ('o', 2), ('g', 3), ('a', 1), ('m', 2), ('i', 1), ('n', 2), ('k', 1), ('w', 1), ('l', 1), ('e', 2), ('d', 1)]\n",
      "after [('p', 1), ('a', 1), ('i', 1), ('k', 1), ('w', 1), ('l', 1), ('d', 1), ('r', 2), ('o', 2), ('m', 2), ('n', 2), ('e', 2), ('g', 3)]\n"
     ]
    }
   ],
   "source": [
    "#FREQUENCY SORT\n",
    "\n",
    "s = \"programmingknowledge\"\n",
    "from collections import Counter\n",
    "ct = Counter(s)\n",
    "A=list(ct.items())\n",
    "print(\"BEFORE\",A)\n",
    "A.sort(key=lambda x:x[1])\n",
    "print(\"after\",A)"
   ]
  }
 ],
 "metadata": {
  "kernelspec": {
   "display_name": "Python 3.9.7 64-bit",
   "language": "python",
   "name": "python3"
  },
  "language_info": {
   "codemirror_mode": {
    "name": "ipython",
    "version": 3
   },
   "file_extension": ".py",
   "mimetype": "text/x-python",
   "name": "python",
   "nbconvert_exporter": "python",
   "pygments_lexer": "ipython3",
   "version": "3.9.7"
  },
  "orig_nbformat": 4,
  "vscode": {
   "interpreter": {
    "hash": "0d591c6e422414675974e227c13f5382000c440fedd3c5006ef2be5d887f0ba7"
   }
  }
 },
 "nbformat": 4,
 "nbformat_minor": 2
}
