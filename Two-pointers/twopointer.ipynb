{
 "cells": [
  {
   "cell_type": "code",
   "execution_count": 1,
   "metadata": {},
   "outputs": [
    {
     "name": "stdout",
     "output_type": "stream",
     "text": [
      "True\n"
     ]
    }
   ],
   "source": [
    "#if string is palindrome\n",
    "\n",
    "def ispalindrome(s):\n",
    "    #start\n",
    "    i=0\n",
    "    #end\n",
    "    j=len(s)-1\n",
    "    while i<j:\n",
    "        if s[i]!=s[j]:\n",
    "            return False\n",
    "        \n",
    "        i=i+1\n",
    "        j=j-1\n",
    "    return True\n",
    "\n",
    "print(ispalindrome(\"civic\")) #True"
   ]
  },
  {
   "cell_type": "code",
   "execution_count": 2,
   "metadata": {},
   "outputs": [
    {
     "name": "stdout",
     "output_type": "stream",
     "text": [
      "True\n"
     ]
    }
   ],
   "source": [
    "#sum of element of sorted array is equal to target\n",
    "\n",
    "def twosum(arr,target):\n",
    "    #start \n",
    "    i=0\n",
    "    #end\n",
    "    j=len(arr)-1\n",
    "    while i<j:\n",
    "        sum = arr[i]+arr[j]\n",
    "        if target == sum:\n",
    "            return True\n",
    "        elif sum<target:\n",
    "            i=i+1\n",
    "        else:\n",
    "            j=j-1\n",
    "    return False\n",
    "\n",
    "print(twosum([4,6,9,10,12,18,22],19))"
   ]
  },
  {
   "cell_type": "code",
   "execution_count": 3,
   "metadata": {},
   "outputs": [
    {
     "name": "stdout",
     "output_type": "stream",
     "text": [
      "7\n"
     ]
    }
   ],
   "source": [
    "#Two Pointer Technique In sorted Array and Binary Search\n",
    "\n",
    "def sum(arr,key):\n",
    "    l=0\n",
    "    r=len(arr)-1\n",
    "    while l<=r:\n",
    "        m=(l+r)//2\n",
    "        if arr[m]==key:\n",
    "            return m\n",
    "        elif arr[m]<key:\n",
    "            l=m+1\n",
    "        else:\n",
    "            #arr[m]>key\n",
    "            r=m-1\n",
    "    return -1\n",
    "\n",
    "print(sum([6,8,9,10,12,42,51,65,82],65))    "
   ]
  },
  {
   "cell_type": "code",
   "execution_count": 4,
   "metadata": {},
   "outputs": [
    {
     "data": {
      "text/plain": [
       "7"
      ]
     },
     "execution_count": 4,
     "metadata": {},
     "output_type": "execute_result"
    }
   ],
   "source": [
    "#inbuilt function- bisect acts as a binary search\n",
    "import bisect\n",
    "arr = [6,8,9,10,12,42,51,65,82]\n",
    "key = 65\n",
    "bisect.bisect_left(arr,key)"
   ]
  },
  {
   "cell_type": "code",
   "execution_count": 5,
   "metadata": {},
   "outputs": [
    {
     "name": "stdout",
     "output_type": "stream",
     "text": [
      "[8, 2]\n"
     ]
    }
   ],
   "source": [
    "#Two Pointer Technique In unsorted Array\n",
    "\n",
    "def findtarget(arr,target):\n",
    "    st =set() #unordered data structure can take hashmap here \n",
    "\n",
    "    for i in range(len(arr)):\n",
    "        complement = target - arr[i]\n",
    "        if complement in st:\n",
    "            return [complement,arr[i]]\n",
    "        else:\n",
    "            st.add(arr[i])\n",
    "print(findtarget([8,2,9,3,6,4,13,41,15],10))"
   ]
  }
 ],
 "metadata": {
  "kernelspec": {
   "display_name": "Python 3.9.7 64-bit",
   "language": "python",
   "name": "python3"
  },
  "language_info": {
   "codemirror_mode": {
    "name": "ipython",
    "version": 3
   },
   "file_extension": ".py",
   "mimetype": "text/x-python",
   "name": "python",
   "nbconvert_exporter": "python",
   "pygments_lexer": "ipython3",
   "version": "3.9.7"
  },
  "orig_nbformat": 4,
  "vscode": {
   "interpreter": {
    "hash": "0d591c6e422414675974e227c13f5382000c440fedd3c5006ef2be5d887f0ba7"
   }
  }
 },
 "nbformat": 4,
 "nbformat_minor": 2
}
